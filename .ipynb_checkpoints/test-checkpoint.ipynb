{
 "cells": [
  {
   "cell_type": "code",
   "execution_count": 1,
   "metadata": {
    "collapsed": false
   },
   "outputs": [
    {
     "data": {
      "text/plain": [
       "array([[[ 0,  1,  2,  3],\n",
       "        [ 4,  5,  6,  7],\n",
       "        [ 8,  9, 10, 11]],\n",
       "\n",
       "       [[12, 13, 14, 15],\n",
       "        [16, 17, 18, 19],\n",
       "        [20, 21, 22, 23]]])"
      ]
     },
     "execution_count": 1,
     "metadata": {},
     "output_type": "execute_result"
    }
   ],
   "source": [
    "import numpy as np\n",
    "a = np.arange(24).reshape((2,3,4))\n",
    "a"
   ]
  },
  {
   "cell_type": "code",
   "execution_count": 2,
   "metadata": {
    "collapsed": false
   },
   "outputs": [
    {
     "data": {
      "text/plain": [
       "array([[ 0,  1,  2,  3,  4,  5,  6,  7,  8,  9, 10, 11],\n",
       "       [12, 13, 14, 15, 16, 17, 18, 19, 20, 21, 22, 23]])"
      ]
     },
     "execution_count": 2,
     "metadata": {},
     "output_type": "execute_result"
    }
   ],
   "source": [
    "b = np.reshape(a,(2,3*4))\n",
    "b"
   ]
  },
  {
   "cell_type": "code",
   "execution_count": 3,
   "metadata": {
    "collapsed": false
   },
   "outputs": [
    {
     "data": {
      "text/plain": [
       "12"
      ]
     },
     "execution_count": 3,
     "metadata": {},
     "output_type": "execute_result"
    }
   ],
   "source": [
    "f = a.shape\n",
    "np.prod(f[1:])"
   ]
  },
  {
   "cell_type": "code",
   "execution_count": 4,
   "metadata": {
    "collapsed": false
   },
   "outputs": [
    {
     "name": "stdout",
     "output_type": "stream",
     "text": [
      "2\n",
      "1\n"
     ]
    }
   ],
   "source": [
    "L = 3\n",
    "for cnt in range(L-1,0,-1):\n",
    "    print(cnt)"
   ]
  },
  {
   "cell_type": "code",
   "execution_count": 5,
   "metadata": {
    "collapsed": false
   },
   "outputs": [
    {
     "name": "stdout",
     "output_type": "stream",
     "text": [
      "[[ 1  2  3]\n",
      " [11 22 23]]\n",
      "\n",
      "[1 2 3]\n",
      "\n",
      "[[ 1  4  9]\n",
      " [11 44 69]]\n"
     ]
    }
   ],
   "source": [
    "x = np.array([[1,2,3],[11,22,23]])\n",
    "print(x)\n",
    "print()\n",
    "\n",
    "gamma = np.array([1,2,3])\n",
    "print(gamma)\n",
    "print()\n",
    "\n",
    "print(x*gamma)"
   ]
  },
  {
   "cell_type": "code",
   "execution_count": 6,
   "metadata": {
    "collapsed": false
   },
   "outputs": [
    {
     "data": {
      "text/plain": [
       "array([[ 0,  0,  0,  0,  0],\n",
       "       [ 0,  1,  2,  3,  0],\n",
       "       [ 0, 11, 22, 23,  0],\n",
       "       [ 0,  0,  0,  0,  0]])"
      ]
     },
     "execution_count": 6,
     "metadata": {},
     "output_type": "execute_result"
    }
   ],
   "source": [
    "pad = 1\n",
    "x  = np.array([[1,2,3],[11,22,23]])\n",
    "x2 = np.pad(x,((pad,pad),(pad,pad)),'constant', constant_values=(0,0))\n",
    "x2"
   ]
  },
  {
   "cell_type": "code",
   "execution_count": 7,
   "metadata": {
    "collapsed": false
   },
   "outputs": [
    {
     "name": "stdout",
     "output_type": "stream",
     "text": [
      "[[[-0.1        -0.04545455]\n",
      "  [ 0.00909091  0.06363636]]\n",
      "\n",
      " [[ 0.11818182  0.17272727]\n",
      "  [ 0.22727273  0.28181818]]\n",
      "\n",
      " [[ 0.33636364  0.39090909]\n",
      "  [ 0.44545455  0.5       ]]]\n",
      "\n",
      "[[[ 0.          0.          0.          0.        ]\n",
      "  [ 0.         -0.1        -0.04545455  0.        ]\n",
      "  [ 0.          0.00909091  0.06363636  0.        ]\n",
      "  [ 0.          0.          0.          0.        ]]\n",
      "\n",
      " [[ 0.          0.          0.          0.        ]\n",
      "  [ 0.          0.11818182  0.17272727  0.        ]\n",
      "  [ 0.          0.22727273  0.28181818  0.        ]\n",
      "  [ 0.          0.          0.          0.        ]]\n",
      "\n",
      " [[ 0.          0.          0.          0.        ]\n",
      "  [ 0.          0.33636364  0.39090909  0.        ]\n",
      "  [ 0.          0.44545455  0.5         0.        ]\n",
      "  [ 0.          0.          0.          0.        ]]]\n"
     ]
    }
   ],
   "source": [
    "x_shape = (3,2,2)\n",
    "x = np.linspace(-0.1, 0.5, num=np.prod(x_shape)).reshape(x_shape)\n",
    "print(x)\n",
    "print()\n",
    "\n",
    "x2 = np.pad(x,((0,0),(1,1),(1,1)),'constant', constant_values=(0,0))\n",
    "print(x2)"
   ]
  },
  {
   "cell_type": "code",
   "execution_count": 8,
   "metadata": {
    "collapsed": false
   },
   "outputs": [
    {
     "data": {
      "text/plain": [
       "0.3000000000000007"
      ]
     },
     "execution_count": 8,
     "metadata": {},
     "output_type": "execute_result"
    }
   ],
   "source": [
    "15.3 % 1"
   ]
  },
  {
   "cell_type": "code",
   "execution_count": 9,
   "metadata": {
    "collapsed": false
   },
   "outputs": [
    {
     "name": "stdout",
     "output_type": "stream",
     "text": [
      "[[111  12]\n",
      " [ 10   1]]\n",
      "0\n",
      "[[ 0.  0.]\n",
      " [-4.  0.]]\n"
     ]
    }
   ],
   "source": [
    "x = np.array([[111,12],[10,1]])\n",
    "print(x)\n",
    "\n",
    "print(np.argmax(x))\n",
    "\n",
    "y = np.zeros((2,2))\n",
    "z = np.ravel(y)\n",
    "z[2] = -4\n",
    "z = z.reshape(y.shape)\n",
    "print(z)"
   ]
  },
  {
   "cell_type": "code",
   "execution_count": 10,
   "metadata": {
    "collapsed": false
   },
   "outputs": [
    {
     "name": "stdout",
     "output_type": "stream",
     "text": [
      "(1, 2, 3, 0, 1, 1)\n",
      "[1, 3, 4]\n"
     ]
    }
   ],
   "source": [
    "a = (1,2,3)\n",
    "b = (0,1,1)\n",
    "c = a+b\n",
    "print(c)\n",
    "d = [sum(x) for x in zip(a,b)]\n",
    "print(d)"
   ]
  },
  {
   "cell_type": "code",
   "execution_count": 11,
   "metadata": {
    "collapsed": false
   },
   "outputs": [
    {
     "name": "stdout",
     "output_type": "stream",
     "text": [
      "[[[-0.1        -0.04545455]\n",
      "  [ 0.00909091  0.06363636]]\n",
      "\n",
      " [[ 0.11818182  0.17272727]\n",
      "  [ 0.22727273  0.28181818]]\n",
      "\n",
      " [[ 0.33636364  0.39090909]\n",
      "  [ 0.44545455  0.5       ]]]\n",
      "\n",
      "[[-0.1        -0.04545455  0.00909091  0.06363636]\n",
      " [ 0.11818182  0.17272727  0.22727273  0.28181818]\n",
      " [ 0.33636364  0.39090909  0.44545455  0.5       ]]\n",
      "[[[-0.1        -0.04545455]\n",
      "  [ 0.00909091  0.06363636]]\n",
      "\n",
      " [[ 0.          0.        ]\n",
      "  [ 0.          0.        ]]\n",
      "\n",
      " [[ 0.33636364  0.39090909]\n",
      "  [ 0.44545455  0.5       ]]]\n"
     ]
    }
   ],
   "source": [
    "x_shape = (3,2,2)\n",
    "x = np.linspace(-0.1, 0.5, num=np.prod(x_shape)).reshape(x_shape)\n",
    "print(x)\n",
    "print()\n",
    "\n",
    "z = x.reshape((3,4))\n",
    "print(z)\n",
    "\n",
    "x[np.ix_([1],np.arange(2),np.arange(2))] = np.zeros((2,2))\n",
    "print(x)"
   ]
  },
  {
   "cell_type": "code",
   "execution_count": 16,
   "metadata": {
    "collapsed": false
   },
   "outputs": [
    {
     "name": "stdout",
     "output_type": "stream",
     "text": [
      "(3, 3, 1, 1)\n",
      "(3, 3)\n"
     ]
    }
   ],
   "source": [
    "x = np.arange(9)\n",
    "x = x.reshape((3,3,1,1))\n",
    "print(x.shape)\n",
    "x = np.squeeze(x)\n",
    "print(x.shape)"
   ]
  },
  {
   "cell_type": "code",
   "execution_count": 19,
   "metadata": {
    "collapsed": false
   },
   "outputs": [
    {
     "name": "stdout",
     "output_type": "stream",
     "text": [
      "[[[[-0.1        -0.09495798 -0.08991597 -0.08487395 -0.07983193]\n",
      "   [-0.07478992 -0.0697479  -0.06470588 -0.05966387 -0.05462185]\n",
      "   [-0.04957983 -0.04453782 -0.0394958  -0.03445378 -0.02941176]\n",
      "   [-0.02436975 -0.01932773 -0.01428571 -0.0092437  -0.00420168]]\n",
      "\n",
      "  [[ 0.00084034  0.00588235  0.01092437  0.01596639  0.0210084 ]\n",
      "   [ 0.02605042  0.03109244  0.03613445  0.04117647  0.04621849]\n",
      "   [ 0.0512605   0.05630252  0.06134454  0.06638655  0.07142857]\n",
      "   [ 0.07647059  0.08151261  0.08655462  0.09159664  0.09663866]]]\n",
      "\n",
      "\n",
      " [[[ 0.10168067  0.10672269  0.11176471  0.11680672  0.12184874]\n",
      "   [ 0.12689076  0.13193277  0.13697479  0.14201681  0.14705882]\n",
      "   [ 0.15210084  0.15714286  0.16218487  0.16722689  0.17226891]\n",
      "   [ 0.17731092  0.18235294  0.18739496  0.19243697  0.19747899]]\n",
      "\n",
      "  [[ 0.20252101  0.20756303  0.21260504  0.21764706  0.22268908]\n",
      "   [ 0.22773109  0.23277311  0.23781513  0.24285714  0.24789916]\n",
      "   [ 0.25294118  0.25798319  0.26302521  0.26806723  0.27310924]\n",
      "   [ 0.27815126  0.28319328  0.28823529  0.29327731  0.29831933]]]\n",
      "\n",
      "\n",
      " [[[ 0.30336134  0.30840336  0.31344538  0.31848739  0.32352941]\n",
      "   [ 0.32857143  0.33361345  0.33865546  0.34369748  0.3487395 ]\n",
      "   [ 0.35378151  0.35882353  0.36386555  0.36890756  0.37394958]\n",
      "   [ 0.3789916   0.38403361  0.38907563  0.39411765  0.39915966]]\n",
      "\n",
      "  [[ 0.40420168  0.4092437   0.41428571  0.41932773  0.42436975]\n",
      "   [ 0.42941176  0.43445378  0.4394958   0.44453782  0.44957983]\n",
      "   [ 0.45462185  0.45966387  0.46470588  0.4697479   0.47478992]\n",
      "   [ 0.47983193  0.48487395  0.48991597  0.49495798  0.5       ]]]]\n",
      "\n"
     ]
    }
   ],
   "source": [
    "x_shape = (3,2,4,5)\n",
    "x = np.linspace(-0.1, 0.5, num=np.prod(x_shape)).reshape(x_shape)\n",
    "print(x)\n",
    "print()"
   ]
  },
  {
   "cell_type": "code",
   "execution_count": null,
   "metadata": {
    "collapsed": true
   },
   "outputs": [],
   "source": []
  }
 ],
 "metadata": {
  "kernelspec": {
   "display_name": "Python 3",
   "language": "python",
   "name": "python3"
  },
  "language_info": {
   "codemirror_mode": {
    "name": "ipython",
    "version": 3
   },
   "file_extension": ".py",
   "mimetype": "text/x-python",
   "name": "python",
   "nbconvert_exporter": "python",
   "pygments_lexer": "ipython3",
   "version": "3.5.2"
  }
 },
 "nbformat": 4,
 "nbformat_minor": 0
}
