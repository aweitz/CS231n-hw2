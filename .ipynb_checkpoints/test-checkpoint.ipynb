{
 "cells": [
  {
   "cell_type": "code",
   "execution_count": 1,
   "metadata": {
    "collapsed": false
   },
   "outputs": [
    {
     "data": {
      "text/plain": [
       "array([[[ 0,  1,  2,  3],\n",
       "        [ 4,  5,  6,  7],\n",
       "        [ 8,  9, 10, 11]],\n",
       "\n",
       "       [[12, 13, 14, 15],\n",
       "        [16, 17, 18, 19],\n",
       "        [20, 21, 22, 23]]])"
      ]
     },
     "execution_count": 1,
     "metadata": {},
     "output_type": "execute_result"
    }
   ],
   "source": [
    "import numpy as np\n",
    "a = np.arange(24).reshape((2,3,4))\n",
    "a"
   ]
  },
  {
   "cell_type": "code",
   "execution_count": 2,
   "metadata": {
    "collapsed": false
   },
   "outputs": [
    {
     "data": {
      "text/plain": [
       "array([[ 0,  1,  2,  3,  4,  5,  6,  7,  8,  9, 10, 11],\n",
       "       [12, 13, 14, 15, 16, 17, 18, 19, 20, 21, 22, 23]])"
      ]
     },
     "execution_count": 2,
     "metadata": {},
     "output_type": "execute_result"
    }
   ],
   "source": [
    "b = np.reshape(a,(2,3*4))\n",
    "b"
   ]
  },
  {
   "cell_type": "code",
   "execution_count": 3,
   "metadata": {
    "collapsed": false
   },
   "outputs": [
    {
     "data": {
      "text/plain": [
       "12"
      ]
     },
     "execution_count": 3,
     "metadata": {},
     "output_type": "execute_result"
    }
   ],
   "source": [
    "f = a.shape\n",
    "np.prod(f[1:])"
   ]
  },
  {
   "cell_type": "code",
   "execution_count": 4,
   "metadata": {
    "collapsed": false
   },
   "outputs": [
    {
     "name": "stdout",
     "output_type": "stream",
     "text": [
      "2\n",
      "1\n"
     ]
    }
   ],
   "source": [
    "L = 3\n",
    "for cnt in range(L-1,0,-1):\n",
    "    print(cnt)"
   ]
  },
  {
   "cell_type": "code",
   "execution_count": 5,
   "metadata": {
    "collapsed": false
   },
   "outputs": [
    {
     "name": "stdout",
     "output_type": "stream",
     "text": [
      "[[ 1  2  3]\n",
      " [11 22 23]]\n",
      "\n",
      "[1 2 3]\n",
      "\n",
      "[[ 1  4  9]\n",
      " [11 44 69]]\n"
     ]
    }
   ],
   "source": [
    "x = np.array([[1,2,3],[11,22,23]])\n",
    "print(x)\n",
    "print()\n",
    "\n",
    "gamma = np.array([1,2,3])\n",
    "print(gamma)\n",
    "print()\n",
    "\n",
    "print(x*gamma)"
   ]
  },
  {
   "cell_type": "code",
   "execution_count": 6,
   "metadata": {
    "collapsed": false
   },
   "outputs": [
    {
     "data": {
      "text/plain": [
       "array([[ 0,  0,  0,  0,  0],\n",
       "       [ 0,  1,  2,  3,  0],\n",
       "       [ 0, 11, 22, 23,  0],\n",
       "       [ 0,  0,  0,  0,  0]])"
      ]
     },
     "execution_count": 6,
     "metadata": {},
     "output_type": "execute_result"
    }
   ],
   "source": [
    "pad = 1\n",
    "x  = np.array([[1,2,3],[11,22,23]])\n",
    "x2 = np.pad(x,((pad,pad),(pad,pad)),'constant', constant_values=(0,0))\n",
    "x2"
   ]
  },
  {
   "cell_type": "code",
   "execution_count": 7,
   "metadata": {
    "collapsed": false
   },
   "outputs": [
    {
     "name": "stdout",
     "output_type": "stream",
     "text": [
      "[[[-0.1        -0.04545455]\n",
      "  [ 0.00909091  0.06363636]]\n",
      "\n",
      " [[ 0.11818182  0.17272727]\n",
      "  [ 0.22727273  0.28181818]]\n",
      "\n",
      " [[ 0.33636364  0.39090909]\n",
      "  [ 0.44545455  0.5       ]]]\n",
      "\n",
      "[[[ 0.          0.          0.          0.        ]\n",
      "  [ 0.         -0.1        -0.04545455  0.        ]\n",
      "  [ 0.          0.00909091  0.06363636  0.        ]\n",
      "  [ 0.          0.          0.          0.        ]]\n",
      "\n",
      " [[ 0.          0.          0.          0.        ]\n",
      "  [ 0.          0.11818182  0.17272727  0.        ]\n",
      "  [ 0.          0.22727273  0.28181818  0.        ]\n",
      "  [ 0.          0.          0.          0.        ]]\n",
      "\n",
      " [[ 0.          0.          0.          0.        ]\n",
      "  [ 0.          0.33636364  0.39090909  0.        ]\n",
      "  [ 0.          0.44545455  0.5         0.        ]\n",
      "  [ 0.          0.          0.          0.        ]]]\n"
     ]
    }
   ],
   "source": [
    "x_shape = (3,2,2)\n",
    "x = np.linspace(-0.1, 0.5, num=np.prod(x_shape)).reshape(x_shape)\n",
    "print(x)\n",
    "print()\n",
    "\n",
    "x2 = np.pad(x,((0,0),(1,1),(1,1)),'constant', constant_values=(0,0))\n",
    "print(x2)"
   ]
  },
  {
   "cell_type": "code",
   "execution_count": 8,
   "metadata": {
    "collapsed": false
   },
   "outputs": [
    {
     "data": {
      "text/plain": [
       "0.3000000000000007"
      ]
     },
     "execution_count": 8,
     "metadata": {},
     "output_type": "execute_result"
    }
   ],
   "source": [
    "15.3 % 1"
   ]
  },
  {
   "cell_type": "code",
   "execution_count": 23,
   "metadata": {
    "collapsed": false
   },
   "outputs": [
    {
     "name": "stdout",
     "output_type": "stream",
     "text": [
      "[[111  12]\n",
      " [ 10   1]]\n",
      "0\n",
      "[[ 0.  0.]\n",
      " [-4.  0.]]\n"
     ]
    }
   ],
   "source": [
    "x = np.array([[111,12],[10,1]])\n",
    "print(x)\n",
    "\n",
    "print(np.argmax(x))\n",
    "\n",
    "y = np.zeros((2,2))\n",
    "z = np.ravel(y)\n",
    "z[2] = -4\n",
    "z = z.reshape(y.shape)\n",
    "print(z)"
   ]
  },
  {
   "cell_type": "code",
   "execution_count": null,
   "metadata": {
    "collapsed": true
   },
   "outputs": [],
   "source": []
  }
 ],
 "metadata": {
  "kernelspec": {
   "display_name": "Python 3",
   "language": "python",
   "name": "python3"
  },
  "language_info": {
   "codemirror_mode": {
    "name": "ipython",
    "version": 3
   },
   "file_extension": ".py",
   "mimetype": "text/x-python",
   "name": "python",
   "nbconvert_exporter": "python",
   "pygments_lexer": "ipython3",
   "version": "3.5.2"
  }
 },
 "nbformat": 4,
 "nbformat_minor": 0
}
